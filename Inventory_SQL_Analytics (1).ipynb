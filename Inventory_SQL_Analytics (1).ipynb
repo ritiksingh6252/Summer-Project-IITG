{
 "cells": [
  {
   "cell_type": "markdown",
   "id": "288f9158",
   "metadata": {},
   "source": [
    "# Solving Inventory Inefficiencies Using Advanced SQL Analytics\n",
    "**Dataset**: inventory_forecasting.csv\n",
    "\n",
    "This notebook performs end-to-end inventory analytics using SQL-style logic, data visualization, and machine learning."
   ]
  },
  {
   "cell_type": "code",
   "execution_count": null,
   "id": "697189d6",
   "metadata": {},
   "outputs": [],
   "source": [
    "import pandas as pd\n",
    "import matplotlib.pyplot as plt\n",
    "import seaborn as sns\n",
    "from sklearn.model_selection import train_test_split\n",
    "from sklearn.ensemble import RandomForestRegressor\n",
    "from sklearn.metrics import mean_squared_error, r2_score\n",
    "from sklearn.preprocessing import LabelEncoder\n",
    "import warnings\n",
    "warnings.filterwarnings(\"ignore\")"
   ]
  },
  {
   "cell_type": "code",
   "execution_count": null,
   "id": "72f8c699",
   "metadata": {},
   "outputs": [],
   "source": [
    "# Load the dataset\n",
    "df = pd.read_csv(\"inventory_forecasting.csv\")\n",
    "df['Date'] = pd.to_datetime(df['Date'])\n",
    "df.head()"
   ]
  },
  {
   "cell_type": "code",
   "execution_count": null,
   "id": "6c1f8b5b",
   "metadata": {},
   "outputs": [],
   "source": [
    "# Add time features\n",
    "df['Month'] = df['Date'].dt.month\n",
    "df['Day'] = df['Date'].dt.day\n",
    "df['Weekday'] = df['Date'].dt.weekday\n",
    "\n",
    "# Encode categorical features\n",
    "le = LabelEncoder()\n",
    "for col in ['Store ID', 'Product ID', 'Category', 'Region', 'Weather Condition', 'Seasonality']:\n",
    "    df[col] = le.fit_transform(df[col])\n",
    "\n",
    "df.info()"
   ]
  },
  {
   "cell_type": "code",
   "execution_count": null,
   "id": "19cfd89c",
   "metadata": {},
   "outputs": [],
   "source": [
    "# Units Sold Over Time\n",
    "plt.figure(figsize=(12, 6))\n",
    "sns.lineplot(data=df.groupby('Date')['Units Sold'].sum().reset_index(), x='Date', y='Units Sold')\n",
    "plt.title(\"Daily Units Sold Over Time\")\n",
    "plt.xticks(rotation=45)\n",
    "plt.tight_layout()\n",
    "plt.show()"
   ]
  },
  {
   "cell_type": "code",
   "execution_count": null,
   "id": "2cfcd26a",
   "metadata": {},
   "outputs": [],
   "source": [
    "# Units Sold by Seasonality\n",
    "plt.figure(figsize=(10, 5))\n",
    "sns.boxplot(data=df, x='Seasonality', y='Units Sold')\n",
    "plt.title(\"Units Sold by Season\")\n",
    "plt.tight_layout()\n",
    "plt.show()"
   ]
  },
  {
   "cell_type": "code",
   "execution_count": null,
   "id": "71058f72",
   "metadata": {},
   "outputs": [],
   "source": [
    "# Correlation heatmap\n",
    "plt.figure(figsize=(12, 8))\n",
    "sns.heatmap(df.corr(numeric_only=True), annot=True, cmap='coolwarm')\n",
    "plt.title(\"Feature Correlation Heatmap\")\n",
    "plt.tight_layout()\n",
    "plt.show()"
   ]
  },
  {
   "cell_type": "code",
   "execution_count": null,
   "id": "87196a76",
   "metadata": {},
   "outputs": [],
   "source": [
    "# Units Sold by Product Category\n",
    "plt.figure(figsize=(10, 5))\n",
    "sns.boxplot(data=df, x='Category', y='Units Sold')\n",
    "plt.title(\"Units Sold by Product Category\")\n",
    "plt.tight_layout()\n",
    "plt.show()\n",
    "\n",
    "# Units Sold by Region\n",
    "plt.figure(figsize=(10, 5))\n",
    "sns.boxplot(data=df, x='Region', y='Units Sold')\n",
    "plt.title(\"Units Sold by Region\")\n",
    "plt.tight_layout()\n",
    "plt.show()"
   ]
  },
  {
   "cell_type": "code",
   "execution_count": null,
   "id": "0387b835",
   "metadata": {},
   "outputs": [],
   "source": [
    "# Use a sample for faster training\n",
    "sample_df = df.sample(n=20000, random_state=42)\n",
    "\n",
    "# Features and target\n",
    "features = ['Store ID', 'Product ID', 'Category', 'Region', 'Inventory Level',\n",
    "            'Units Ordered', 'Demand Forecast', 'Price', 'Discount',\n",
    "            'Weather Condition', 'Holiday/Promotion', 'Competitor Pricing',\n",
    "            'Seasonality', 'Month', 'Day', 'Weekday']\n",
    "target = 'Units Sold'\n",
    "\n",
    "X = sample_df[features]\n",
    "y = sample_df[target]\n",
    "\n",
    "# Train-test split\n",
    "X_train, X_test, y_train, y_test = train_test_split(X, y, test_size=0.2, random_state=42)\n",
    "\n",
    "# Model\n",
    "model = RandomForestRegressor(n_estimators=100, random_state=42)\n",
    "model.fit(X_train, y_train)\n",
    "\n",
    "# Predict\n",
    "y_pred = model.predict(X_test)\n",
    "\n",
    "# Evaluation\n",
    "rmse = mean_squared_error(y_test, y_pred, squared=False)\n",
    "r2 = r2_score(y_test, y_pred)\n",
    "\n",
    "print(f\"RMSE: {rmse:.2f}\")\n",
    "print(f\"R² Score: {r2:.2f}\")"
   ]
  },
  {
   "cell_type": "code",
   "execution_count": null,
   "id": "280012c8",
   "metadata": {},
   "outputs": [],
   "source": [
    "# Prediction plot\n",
    "plt.figure(figsize=(10, 6))\n",
    "sns.scatterplot(x=y_test, y=y_pred, alpha=0.3)\n",
    "plt.xlabel(\"Actual Units Sold\")\n",
    "plt.ylabel(\"Predicted Units Sold\")\n",
    "plt.title(\"Prediction vs Actual\")\n",
    "plt.tight_layout()\n",
    "plt.show()"
   ]
  },
  {
   "cell_type": "code",
   "execution_count": null,
   "id": "9c953a27",
   "metadata": {},
   "outputs": [],
   "source": [
    "# Feature importance\n",
    "importances = pd.Series(model.feature_importances_, index=features).sort_values(ascending=True)\n",
    "plt.figure(figsize=(10, 6))\n",
    "importances.plot(kind='barh')\n",
    "plt.title(\"Feature Importance\")\n",
    "plt.tight_layout()\n",
    "plt.show()"
   ]
  },
  {
   "cell_type": "markdown",
   "id": "8288e341",
   "metadata": {},
   "source": [
    "## Gradient Boosting Regressor Model\n",
    "We’ll now apply a Gradient Boosting Regressor to compare performance with the Random Forest model."
   ]
  },
  {
   "cell_type": "code",
   "execution_count": null,
   "id": "df1e66c0",
   "metadata": {},
   "outputs": [],
   "source": [
    "from sklearn.ensemble import GradientBoostingRegressor\n",
    "from sklearn.model_selection import cross_val_score\n",
    "\n",
    "# Model\n",
    "gb_model = GradientBoostingRegressor(n_estimators=100, random_state=42)\n",
    "gb_model.fit(X_train, y_train)\n",
    "\n",
    "# Predict\n",
    "gb_pred = gb_model.predict(X_test)\n",
    "\n",
    "# Evaluation\n",
    "gb_rmse = mean_squared_error(y_test, gb_pred, squared=False)\n",
    "gb_r2 = r2_score(y_test, gb_pred)\n",
    "\n",
    "print(f\"Gradient Boosting RMSE: {gb_rmse:.2f}\")\n",
    "print(f\"Gradient Boosting R² Score: {gb_r2:.2f}\")"
   ]
  },
  {
   "cell_type": "code",
   "execution_count": null,
   "id": "e04358b8",
   "metadata": {},
   "outputs": [],
   "source": [
    "# Prediction comparison plot\n",
    "plt.figure(figsize=(10, 6))\n",
    "sns.scatterplot(x=y_test, y=gb_pred, alpha=0.3, label='Gradient Boosting')\n",
    "sns.scatterplot(x=y_test, y=y_pred, alpha=0.3, label='Random Forest')\n",
    "plt.xlabel(\"Actual Units Sold\")\n",
    "plt.ylabel(\"Predicted Units Sold\")\n",
    "plt.title(\"Model Comparison: Prediction vs Actual\")\n",
    "plt.legend()\n",
    "plt.tight_layout()\n",
    "plt.show()"
   ]
  }
 ],
 "metadata": {},
 "nbformat": 4,
 "nbformat_minor": 5
}
